{
 "cells": [
  {
   "cell_type": "code",
   "execution_count": 1,
   "id": "ab96741e-f75f-4d7d-9711-248686b60bbf",
   "metadata": {},
   "outputs": [],
   "source": [
    "! pip install -qU crewai groq langchain langchain-groq langchain-openai python-dotenv 'crewai[tools]'"
   ]
  },
  {
   "cell_type": "code",
   "execution_count": 11,
   "id": "ab42359d-336b-43da-ac6d-73809bff24b3",
   "metadata": {},
   "outputs": [],
   "source": [
    "from dotenv import load_dotenv\n",
    "import os\n",
    "from langchain_groq import ChatGroq\n",
    "from crewai import Agent, Task, Crew, Process\n",
    "from crewai_tools import WebsiteSearchTool, ScrapeWebsiteTool\n",
    "from langchain.tools import DuckDuckGoSearchRun, Tool\n",
    "from langchain_community.tools import WikipediaQueryRun\n",
    "from langchain_community.utilities import WikipediaAPIWrapper"
   ]
  },
  {
   "cell_type": "code",
   "execution_count": 10,
   "id": "0a732439-3493-4fb8-a156-48db82c546bc",
   "metadata": {},
   "outputs": [],
   "source": [
    "#initializing LLM model\n",
    "load_dotenv()\n",
    "os.environ[\"GROQ_API_KEY\"] = os.getenv(\"GROQ_API_KEY\")\n",
    "\n",
    "llm = ChatGroq(\n",
    "    model=\"llama3-8b-8192\",\n",
    "    temperature=0.6,\n",
    "    max_tokens=None,\n",
    "    timeout=None,\n",
    "    max_retries=2,\n",
    ")"
   ]
  },
  {
   "cell_type": "code",
   "execution_count": 17,
   "id": "29e71296-0a4f-4878-9564-ba76585591b5",
   "metadata": {},
   "outputs": [],
   "source": [
    "searchtool = DuckDuckGoSearchRun()\n",
    "\n",
    "#wikipedia tool\n",
    "wikipedia = WikipediaQueryRun(api_wrapper=WikipediaAPIWrapper())\n",
    "\n",
    "def wikipedia_search(query):\n",
    "    return wikipedia.run(query)\n",
    "\n",
    "wikipedia_tool = Tool(\n",
    "    name=\"WikipediaSearch\",\n",
    "    func=wikipedia_search,\n",
    "    description=\"Search Wikipedia for information on a given topic. Input should be a search query.\"\n",
    ")\n",
    "\n",
    "web_scraper_tool = ScrapeWebsiteTool()"
   ]
  },
  {
   "cell_type": "code",
   "execution_count": 23,
   "id": "cf846106-1c66-4bff-ae0d-291ac7b3d2ae",
   "metadata": {},
   "outputs": [],
   "source": [
    "researcher = Agent(\n",
    "    role='Researcher',\n",
    "    goal='Conduct thorough research on the given query',\n",
    "    backstory='You are an expert researcher with access to vast information',\n",
    "    llm=llm,\n",
    "    tools=[searchtool, wikipedia_tool, web_scraper_tool],\n",
    "    verbose=True\n",
    "        )"
   ]
  },
  {
   "cell_type": "code",
   "execution_count": 24,
   "id": "ca353e2c-acf4-4b92-a71e-4e025f842c8a",
   "metadata": {},
   "outputs": [],
   "source": [
    "writer = Agent(\n",
    "    role='Writer',\n",
    "    goal='Synthesize research findings into a coherent report',\n",
    "    backstory='You are a skilled writer capable of creating clear and concise reports',\n",
    "    llm=llm,\n",
    "    verbose=True\n",
    "        )"
   ]
  },
  {
   "cell_type": "code",
   "execution_count": 41,
   "id": "63ef823a-1212-4160-81f0-0a9207664589",
   "metadata": {},
   "outputs": [],
   "source": [
    "fact_checker = Agent(\n",
    "    role='Fact Checker',\n",
    "    goal='Verify the accuracy of the information in the report and rewrite the article accordingly',\n",
    "    backstory='You are a meticulous fact-checker with a keen eye for detail',\n",
    "    tools=[searchtool],\n",
    "    llm=llm,\n",
    "    verbose = True\n",
    "        )"
   ]
  },
  {
   "cell_type": "code",
   "execution_count": 42,
   "id": "0372a4a5-c81a-4112-ba24-18e21ae93e63",
   "metadata": {},
   "outputs": [],
   "source": [
    "def create_tasks(topic):\n",
    "        research_task = Task(\n",
    "            description=f\"\"\"Research the following query: {topic}. \n",
    "            Use the search tools to find relevant information, and the web scraper to gather details from specific websites.\n",
    "            Use the DuckDuckGo search tool  and Wikipedia search tool by providing a clear and concise search query string.\n",
    "            Use the WebScraper tool by providing a clear and valid website URL as a string.\"\"\",\n",
    "            agent=researcher,\n",
    "            expected_output=\"A comprehensive research summary on the given topic.\"\n",
    "        )\n",
    "\n",
    "        writing_task = Task(\n",
    "            description=\"\"\"Write a comprehensive report based on the research findings. \n",
    "            Organize the information logically and ensure clarity.\"\"\",\n",
    "            agent=writer,\n",
    "            expected_output=\"An engaging and informative article on the given topic.\"\n",
    "        )\n",
    "\n",
    "        fact_checking_task = Task(\n",
    "            description=\"\"\"Verify the accuracy of the information in the report. \n",
    "            Use search tools to cross-reference facts and highlight any discrepancies.\n",
    "            Use the DuckDuckGo search tool by providing a clear and concise search query string.\n",
    "            Once the information is verified and a report is created rephrase the article according to fact-check report \n",
    "            and provide the final article\"\"\",\n",
    "            agent=fact_checker,\n",
    "            expected_output=\"A detailed fact-checking report on the article. Along with the final article after doing fact-check\"\n",
    "        )\n",
    "\n",
    "        return [research_task, writing_task, fact_checking_task]"
   ]
  },
  {
   "cell_type": "code",
   "execution_count": 43,
   "id": "5ce53210-41d4-497b-be7a-40d9ece1f37f",
   "metadata": {},
   "outputs": [],
   "source": [
    "def conduct_research(topic):\n",
    "    tasks = create_tasks(topic)\n",
    "    crew = Crew(\n",
    "        agents=[researcher, writer, fact_checker],\n",
    "        tasks=create_tasks(topic),\n",
    "        verbose=True,\n",
    "        task_execution_timeout=200\n",
    "    )\n",
    "    return crew.kickoff()"
   ]
  },
  {
   "cell_type": "code",
   "execution_count": null,
   "id": "a95339b0-4c19-4dca-8ec0-092fae74726c",
   "metadata": {},
   "outputs": [],
   "source": [
    "if __name__ == \"__main__\":\n",
    "    research_topic = input(\"Enter a research topic: \")\n",
    "    result = conduct_research(research_topic)\n",
    "    print(result)"
   ]
  }
 ],
 "metadata": {
  "kernelspec": {
   "display_name": "Python 3",
   "language": "python",
   "name": "python3"
  },
  "language_info": {
   "codemirror_mode": {
    "name": "ipython",
    "version": 3
   },
   "file_extension": ".py",
   "mimetype": "text/x-python",
   "name": "python",
   "nbconvert_exporter": "python",
   "pygments_lexer": "ipython3",
   "version": "3.10.10"
  }
 },
 "nbformat": 4,
 "nbformat_minor": 5
}
